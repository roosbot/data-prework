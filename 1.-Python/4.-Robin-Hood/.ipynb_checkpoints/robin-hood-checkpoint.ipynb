{
 "cells": [
  {
   "cell_type": "markdown",
   "metadata": {},
   "source": [
    "<img src=\"https://bit.ly/2VnXWr2\" width=\"100\" align=\"left\"/>"
   ]
  },
  {
   "cell_type": "markdown",
   "metadata": {},
   "source": [
    "# Robin Hood\n",
    "Robin Hood has entered a competition to win the archery contest in Sherwood. With his bow and arrows, he needs to shoot on a target and try to hit as close as possible to the center.\n",
    "\n",
    "![](images/arrows.jpg)\n",
    "\n",
    "## Context\n",
    "In this challenge, the landing position of arrows shot by archers in the competition will be represented using 2-dimensional coordinates. \n",
    "\n",
    "In the 2-dimensional space, a point can be defined by a pair of values that correspond to the horizontal coordinate (x) and the vertical coordinate (y). For example, in our case, an arrow that hits the center of the archery target will land in position (0, 0) on the coordinate axes. \n",
    "\n",
    "The space can be divided into 4 zones (quadrants): Q1, Q2, Q3, Q4. If a point is in Q1, both its x coordinate and y coordinate are positive. Any point with a null x or y coordinate is considered to not belong to any quadrant. \n",
    "\n",
    "If you want to know more about the cartesian coordinate system, you can check this [link](https://en.wikipedia.org/wiki/Cartesian_coordinate_system). \n",
    "\n",
    "## Tools\n",
    "You don't necessarily need to use all the tools. Maybe you opt to use some of them or completely different ones, they are given to help you shape the exercise. Programming exercises can be solved in many different ways.\n",
    "* Data structures: **lists, sets, tuples**\n",
    "* Conditional statements: **if-elif-else**\n",
    "* Loop: **while/for**\n",
    "* Minimum (optional sorting)\n",
    "\n",
    "## Tasks\n",
    "Robin Hood has hit the following points:"
   ]
  },
  {
   "cell_type": "code",
   "execution_count": 16,
   "metadata": {},
   "outputs": [],
   "source": [
    "points = [(4, 5), (-0, 2), (4, 7), (1, -3), (3, -2), (4, 5), (3, 2), (5, 7), (-5, 7), (2, 2), (-4, 5), (0, -2),\n",
    "          (-4, 7), (-1, 3), (-3, 2), (-4, -5), (-3, 2), (5, 7), (5, 7), (2, 2), (9, 9), (-8, -9)]"
   ]
  },
  {
   "cell_type": "markdown",
   "metadata": {},
   "source": [
    "#### 1. Robin Hood is famous for hitting an arrow with another arrow. Find the coordinates of the points where an arrow hits another arrow."
   ]
  },
  {
   "cell_type": "code",
   "execution_count": 17,
   "metadata": {},
   "outputs": [
    {
     "name": "stdout",
     "output_type": "stream",
     "text": [
      "[(4, 5), (5, 7), (-3, 2), (2, 2)]\n"
     ]
    }
   ],
   "source": [
    "repeated_arrow = list(set([point for point in points\n",
    "                          if points.count(point) > 1]))\n",
    "print(repeated_arrow)"
   ]
  },
  {
   "cell_type": "markdown",
   "metadata": {},
   "source": [
    "#### 2. Calculate how many arrows have fallen in each quadrant. \n",
    "**Note**: the arrows that fall in the axis (x=0 or y=0) don't belong to any quadrant."
   ]
  },
  {
   "cell_type": "code",
   "execution_count": 18,
   "metadata": {},
   "outputs": [
    {
     "name": "stdout",
     "output_type": "stream",
     "text": [
      "Arrows in Q1: 10\n",
      "Arrows in Q2: 2\n",
      "Arrows in Q3: 6\n",
      "Arrows in Q4: 2\n",
      "There are 2 values that do not below to any quadrant\n"
     ]
    }
   ],
   "source": [
    "x = [point[0] for point in points]\n",
    "y = [point[1] for point in points]\n",
    "\n",
    "arrows_q1 = []\n",
    "arrows_q2 = []\n",
    "arrows_q3 = []\n",
    "arrows_q4 = []\n",
    "arrows_q0 = []\n",
    "\n",
    "hits = len(x)\n",
    "i = 0\n",
    "\n",
    "for hit in range(hits):\n",
    "    if x[i] > 0 and y[i] > 0:\n",
    "        arrows_q1.append(x[i])\n",
    "    elif x[i] > 0 and y[i] < 0:\n",
    "        arrows_q2.append(x[i])\n",
    "    elif x[i] < 0 and y[i] > 0:\n",
    "        arrows_q3.append(x[i])\n",
    "    elif x[i] < 0 and y[i] < 0:\n",
    "        arrows_q4.append(x[i])\n",
    "    else:\n",
    "        arrows_q0.append(x[i])\n",
    "    i += 1\n",
    "\n",
    "print(\"Arrows in Q1:\", len(arrows_q1))\n",
    "print(\"Arrows in Q2:\", len(arrows_q2))\n",
    "print(\"Arrows in Q3:\", len(arrows_q3))\n",
    "print(\"Arrows in Q4:\", len(arrows_q4))\n",
    "print(\"There are\", len(arrows_q0),\"values that do not below to any quadrant\")"
   ]
  },
  {
   "cell_type": "markdown",
   "metadata": {},
   "source": [
    "#### 3. Find the point closest to the center. Calculate its distance to the center. \n",
    "Take into account that there might be more than one point at the minimum distance to the center.\n",
    "\n",
    "**Hint**: Use the Euclidean distance. You can find more information about it [here](https://en.wikipedia.org/wiki/Euclidean_distance).  \n",
    "**Hint**: Defining a function that calculates the distance to the center can help."
   ]
  },
  {
   "cell_type": "code",
   "execution_count": 218,
   "metadata": {},
   "outputs": [
    {
     "name": "stdout",
     "output_type": "stream",
     "text": [
      "The coordinates closest to the center can be found at indexes  [1, 11] , the coordinates are  [[ 0  2]\n",
      " [ 0 -2]]  and the Euclidean distance is  2.0\n"
     ]
    }
   ],
   "source": [
    "import numpy as np\n",
    "from scipy.spatial import distance\n",
    "\n",
    "center = [(0,0)]\n",
    "dictionary = {}\n",
    "\n",
    "# creates the list of distances sorted, but without coordinates)\n",
    "distance_list = list(distance.cdist(points,center).min(axis=1))\n",
    "\n",
    "# looks for the index of the coordinates that are closest to the center\n",
    "distance_list.index(min(distance_list))\n",
    "indexes = [i for i, x in enumerate(distance_list) if x == min(distance_list)]\n",
    "closest_coordinates = (points[indexes])\n",
    "print(\"The coordinates closest to the center can be found at indexes \" ,indexes,\", the coordinates are \",closest_coordinates,\" and the Euclidean distance is \" ,shortest)\n"
   ]
  },
  {
   "cell_type": "markdown",
   "metadata": {},
   "source": [
    "#### 4. If the archery target has a radius of 9, calculate the number of arrows that won't hit the target. \n",
    "**Hint**: Use the function created in step 3. "
   ]
  },
  {
   "cell_type": "code",
   "execution_count": 254,
   "metadata": {},
   "outputs": [
    {
     "name": "stdout",
     "output_type": "stream",
     "text": [
      "Arrows outside radius: 2\n",
      "Arrows indside radius: 20\n"
     ]
    }
   ],
   "source": [
    "# counting \n",
    "\n",
    "points = [(4, 5), (-0, 2), (4, 7), (1, -3), (3, -2), (4, 5), (3, 2), (5, 7), (-5, 7), (2, 2), (-4, 5), (0, -2),\n",
    "          (-4, 7), (-1, 3), (-3, 2), (-4, -5), (-3, 2), (5, 7), (5, 7), (2, 2), (9, 9), (-8, -9)]\n",
    "\n",
    "x = [point[0] for point in points]\n",
    "y = [point[1] for point in points]\n",
    "\n",
    "arrows_outside_radius = []\n",
    "arrrows_inside_radius = []\n",
    "\n",
    "hits = len(x)\n",
    "i = 0\n",
    "\n",
    "for hit in range(hits):\n",
    "    if x[i] >= 9 or x[i] <= -9 or y[i] >= 9 or y[i] <= -9:\n",
    "        arrows_outside_radius.append(x[i])\n",
    "    else:\n",
    "        arrrows_inside_radius.append(x[i])\n",
    "    i += 1\n",
    "\n",
    "print(\"Arrows outside radius:\", len(arrows_outside_radius))\n",
    "print(\"Arrows indside radius:\", len(arrrows_inside_radius))"
   ]
  }
 ],
 "metadata": {
  "kernelspec": {
   "display_name": "Python 3",
   "language": "python",
   "name": "python3"
  },
  "language_info": {
   "codemirror_mode": {
    "name": "ipython",
    "version": 3
   },
   "file_extension": ".py",
   "mimetype": "text/x-python",
   "name": "python",
   "nbconvert_exporter": "python",
   "pygments_lexer": "ipython3",
   "version": "3.7.6"
  }
 },
 "nbformat": 4,
 "nbformat_minor": 2
}
